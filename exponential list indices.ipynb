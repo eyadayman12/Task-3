{
 "cells": [
  {
   "cell_type": "markdown",
   "id": "14960f60",
   "metadata": {},
   "source": [
    "## Loop on list exponentially"
   ]
  },
  {
   "cell_type": "code",
   "execution_count": 61,
   "id": "993245cf",
   "metadata": {
    "ExecuteTime": {
     "end_time": "2021-08-20T03:58:36.903477Z",
     "start_time": "2021-08-20T03:58:34.976467Z"
    }
   },
   "outputs": [
    {
     "name": "stdout",
     "output_type": "stream",
     "text": [
      "2\n",
      "45\n",
      "7\n",
      "23\n",
      "47\n",
      "9\n",
      "c\n"
     ]
    }
   ],
   "source": [
    "myList = [45,7,9,5,23,41,66,99,23,47,22,145,78,3,5,6,9,8,7,58,24,53,'E','AI','a','c','b','f',1,10,11,12,17.5]\n",
    "expo = int(input())\n",
    "for item in range(len(myList)):\n",
    "    item = item ** expo\n",
    "    try:\n",
    "        print(myList[item])\n",
    "    except IndexError:\n",
    "        pass"
   ]
  },
  {
   "cell_type": "code",
   "execution_count": null,
   "id": "a6c6700a",
   "metadata": {},
   "outputs": [],
   "source": []
  }
 ],
 "metadata": {
  "kernelspec": {
   "display_name": "Python 3",
   "language": "python",
   "name": "python3"
  },
  "language_info": {
   "codemirror_mode": {
    "name": "ipython",
    "version": 3
   },
   "file_extension": ".py",
   "mimetype": "text/x-python",
   "name": "python",
   "nbconvert_exporter": "python",
   "pygments_lexer": "ipython3",
   "version": "3.8.8"
  },
  "toc": {
   "base_numbering": 1,
   "nav_menu": {},
   "number_sections": true,
   "sideBar": true,
   "skip_h1_title": false,
   "title_cell": "Table of Contents",
   "title_sidebar": "Contents",
   "toc_cell": false,
   "toc_position": {},
   "toc_section_display": true,
   "toc_window_display": false
  }
 },
 "nbformat": 4,
 "nbformat_minor": 5
}
